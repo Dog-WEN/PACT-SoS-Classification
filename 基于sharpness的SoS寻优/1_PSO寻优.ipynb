{
 "cells": [
  {
   "cell_type": "code",
   "id": "initial_id",
   "metadata": {
    "collapsed": true,
    "ExecuteTime": {
     "end_time": "2025-07-25T07:19:12.991409Z",
     "start_time": "2025-07-25T07:19:12.432404Z"
    }
   },
   "source": [
    "import time\n",
    "from pyswarm import pso\n",
    "\n",
    "from upapy.io import load_data\n",
    "from upapy.reconstruction.ubp2d import FastUBP\n",
    "from focus_func import *"
   ],
   "outputs": [],
   "execution_count": 1
  },
  {
   "metadata": {
    "ExecuteTime": {
     "end_time": "2025-07-25T07:19:13.186628Z",
     "start_time": "2025-07-25T07:19:13.181639Z"
    }
   },
   "cell_type": "code",
   "source": [
    "# 批量重构函数\n",
    "def batch_reconstruct(\n",
    "    data: np.ndarray, sos: float = 1.5, image_size: int = 30, half_time: int = 0\n",
    ") -> np.ndarray:\n",
    "    if data.ndim == 3:\n",
    "        fubp = FastUBP()\n",
    "        fubp.set_pa_frame_element_number(data.shape[1])\n",
    "        fubp.set_reconstruction_water_sos(sos)\n",
    "        fubp.set_reconstruction_tissue_sos(sos)\n",
    "        fubp.set_image_length(image_size)\n",
    "        fubp.set_image_width(image_size)\n",
    "        fubp.set_control_half_time_delta(half_time)\n",
    "        recon_list = []\n",
    "        for i in range(data.shape[0]):\n",
    "            recon_slice = fubp.reconstruction(data[i])\n",
    "            recon_list.append(recon_slice)\n",
    "        return np.array(recon_list)\n",
    "    else:\n",
    "        raise ValueError(\"Incorrect array dimension.\")"
   ],
   "id": "ce1f4c9c8adeb82a",
   "outputs": [],
   "execution_count": 2
  },
  {
   "metadata": {
    "ExecuteTime": {
     "end_time": "2025-07-25T07:19:16.474120Z",
     "start_time": "2025-07-25T07:19:13.230310Z"
    }
   },
   "cell_type": "code",
   "source": [
    "data = load_data(\"../data/mouse_data/D11980_1064 nm_30 %_20db_mouse_000.pah5\")\n",
    "data = data[50:150]\n",
    "data.shape"
   ],
   "id": "610cdb1343ae2809",
   "outputs": [
    {
     "data": {
      "text/plain": [
       "(100, 512, 2000)"
      ]
     },
     "execution_count": 3,
     "metadata": {},
     "output_type": "execute_result"
    }
   ],
   "execution_count": 3
  },
  {
   "metadata": {
    "ExecuteTime": {
     "end_time": "2025-07-25T07:22:14.520244Z",
     "start_time": "2025-07-25T07:19:16.510250Z"
    }
   },
   "cell_type": "code",
   "source": [
    "# 迭代统计数据\n",
    "iteration_stats = []\n",
    "\n",
    "# 定义目标函数\n",
    "def objective_function(sos):\n",
    "    recon_start = time.time()\n",
    "    recon = batch_reconstruct(data, sos)\n",
    "    recon_end = time.time()\n",
    "    recon_time = recon_end - recon_start\n",
    "\n",
    "    mip = np.max(-recon, axis=0)\n",
    "    gradient = calculate_tenenbaum_gradient(mip[np.newaxis,])\n",
    "\n",
    "    # 记录本次迭代的统计信息\n",
    "    iteration_stats.append({\n",
    "        \"sos\": sos,\n",
    "        \"recon_time\": recon_time,\n",
    "    })\n",
    "\n",
    "    return -gradient\n",
    "\n",
    "# 声速下限与上限\n",
    "lb = [1.45]\n",
    "ub = [1.55]\n",
    "\n",
    "# PSO 优化\n",
    "optim_start = time.time()\n",
    "xopt, fopt = pso(objective_function, lb, ub, swarmsize=5, maxiter=10)\n",
    "optim_end = time.time()\n",
    "\n",
    "# 计算总体统计\n",
    "total_recon_time = sum(stat[\"recon_time\"] for stat in iteration_stats)\n",
    "optim_time = optim_end - optim_start\n",
    "\n",
    "print(\"最优解:\", xopt)\n",
    "print(\"目标值:\", fopt)\n",
    "print(\"总体重构耗时:\", round(total_recon_time, 2))\n",
    "print(\"总体优化耗时:\", round(optim_time, 2))\n",
    "print(\"重构耗时占比:\", round(total_recon_time / optim_time, 4)*100, \"%\")"
   ],
   "id": "2bc32d2a2e6b3a5b",
   "outputs": [
    {
     "name": "stdout",
     "output_type": "stream",
     "text": [
      "Stopping search: maximum iterations reached --> 10\n",
      "最优解: [1.5089945]\n",
      "目标值: [-50545044.]\n",
      "总体重构耗时: 169.27\n",
      "总体优化耗时: 178.0\n",
      "重构耗时占比: 95.09 %\n"
     ]
    }
   ],
   "execution_count": 4
  },
  {
   "metadata": {
    "ExecuteTime": {
     "end_time": "2025-07-25T07:22:14.581410Z",
     "start_time": "2025-07-25T07:22:14.560724Z"
    }
   },
   "cell_type": "code",
   "source": [
    "# 定义目标函数\n",
    "def objective_function(sos):\n",
    "    recon = batch_reconstruct(data, sos)\n",
    "    mip = np.max(-recon, axis=0)\n",
    "    gradient = calculate_tenenbaum_gradient(mip[np.newaxis,])\n",
    "\n",
    "    return -gradient\n",
    "\n",
    "# 构建优化器所需的辅助函数\n",
    "def generate_discrete_values(lb, ub, precision):\n",
    "    decimal_places = len(str(precision).split('.')[1]) if '.' in str(precision) else 0\n",
    "    return np.round(np.arange(lb, ub + precision, precision), decimal_places)\n",
    "\n",
    "# 自定义 PSO 优化器\n",
    "def custom_pso(objective_function, lb, ub, precision=0.001, swarmsize=10, maxiter=20, w=0.5, c1=1.5, c2=1.5):\n",
    "    discrete_values = generate_discrete_values(lb, ub, precision)\n",
    "    history = dict()\n",
    "\n",
    "    def evaluate(sos):\n",
    "        if sos in history:\n",
    "            return history[sos]\n",
    "        val = objective_function(sos)\n",
    "        history[sos] = val\n",
    "        return val\n",
    "\n",
    "    # 初始化粒子\n",
    "    # particles = np.random.choice(discrete_values, size=swarmsize)\n",
    "    # 选择每个分段的中间位置作为粒子初始位置\n",
    "    segment_size = len(discrete_values) / swarmsize\n",
    "    particles = np.array([\n",
    "        discrete_values[int(i * segment_size + segment_size / 2)]\n",
    "        for i in range(swarmsize)\n",
    "    ])\n",
    "    velocities = np.zeros(swarmsize)\n",
    "\n",
    "    personal_best = particles.copy()\n",
    "    personal_best_values = np.array([evaluate(p) for p in personal_best])\n",
    "\n",
    "    global_best_idx = np.argmin(personal_best_values)\n",
    "    global_best = personal_best[global_best_idx]\n",
    "    global_best_value = personal_best_values[global_best_idx]\n",
    "    # print(type(global_best), type(global_best_value))\n",
    "    for iter in range(maxiter):\n",
    "        for i in range(swarmsize):\n",
    "            r1 = np.random.rand()\n",
    "            r2 = np.random.rand()\n",
    "\n",
    "            # 计算新速度\n",
    "            inertia = w * velocities[i]\n",
    "            cognitive = c1 * r1 * (personal_best[i] - particles[i])\n",
    "            social = c2 * r2 * (global_best - particles[i])\n",
    "            velocities[i] = inertia + cognitive + social\n",
    "\n",
    "            # 更新位置（注意：必须从离散值中选最近的）\n",
    "            new_position = particles[i] + velocities[i]\n",
    "            closest = discrete_values[np.argmin(np.abs(discrete_values - new_position))]\n",
    "            particles[i] = closest\n",
    "\n",
    "            # 评估\n",
    "            val = evaluate(particles[i])\n",
    "            if val < personal_best_values[i]:\n",
    "                personal_best[i] = particles[i]\n",
    "                personal_best_values[i] = val\n",
    "\n",
    "        # 更新全局最优\n",
    "        global_best_idx = np.argmin(personal_best_values)\n",
    "        if personal_best_values[global_best_idx] < global_best_value:\n",
    "            global_best = personal_best[global_best_idx]\n",
    "            global_best_value = personal_best_values[global_best_idx]\n",
    "\n",
    "        # print(f\"Iteration {iter + 1}, Best sos = {global_best:.4f}, Score = {global_best_value.item():.0f}\")\n",
    "\n",
    "    return global_best, global_best_value, history"
   ],
   "id": "af9c75a2d327ce53",
   "outputs": [],
   "execution_count": 5
  },
  {
   "metadata": {
    "ExecuteTime": {
     "end_time": "2025-07-25T07:23:26.524280Z",
     "start_time": "2025-07-25T07:22:14.607568Z"
    }
   },
   "cell_type": "code",
   "source": [
    "best_sos, best_score, cache = custom_pso(objective_function,\n",
    "                                         lb=1.45, ub=1.55, precision=0.0005,\n",
    "                                         swarmsize=6, maxiter=20,\n",
    "                                         w=0.2, c1=0, c2=1.0)\n",
    "\n",
    "print(\"最优声速:\", best_sos)\n",
    "print(\"最优得分:\", best_score)\n",
    "print(\"History:\", len(cache))\n",
    "\n",
    "sos_list = []\n",
    "for sos in cache:\n",
    "    sos_list.append(round(float(sos), 4))\n",
    "sos_list.sort()\n",
    "print(sos_list)"
   ],
   "id": "4e961dc00420858a",
   "outputs": [
    {
     "name": "stdout",
     "output_type": "stream",
     "text": [
      "最优声速: 1.509\n",
      "最优得分: [-50545392.]\n",
      "History: 27\n",
      "[1.458, 1.466, 1.475, 1.483, 1.492, 1.497, 1.501, 1.503, 1.5035, 1.505, 1.5055, 1.5065, 1.507, 1.5075, 1.508, 1.5085, 1.509, 1.5095, 1.51, 1.5105, 1.511, 1.512, 1.5145, 1.515, 1.519, 1.5255, 1.5425]\n"
     ]
    }
   ],
   "execution_count": 6
  }
 ],
 "metadata": {
  "kernelspec": {
   "display_name": "Python 3",
   "language": "python",
   "name": "python3"
  },
  "language_info": {
   "codemirror_mode": {
    "name": "ipython",
    "version": 2
   },
   "file_extension": ".py",
   "mimetype": "text/x-python",
   "name": "python",
   "nbconvert_exporter": "python",
   "pygments_lexer": "ipython2",
   "version": "2.7.6"
  }
 },
 "nbformat": 4,
 "nbformat_minor": 5
}
