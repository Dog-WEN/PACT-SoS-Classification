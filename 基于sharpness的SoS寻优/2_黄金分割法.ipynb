{
 "cells": [
  {
   "metadata": {
    "ExecuteTime": {
     "end_time": "2025-07-25T07:31:36.840802Z",
     "start_time": "2025-07-25T07:31:36.282128Z"
    }
   },
   "cell_type": "code",
   "source": [
    "from upapy.io import load_data\n",
    "from upapy.reconstruction.ubp2d import FastUBP\n",
    "from focus_func import *"
   ],
   "id": "fe9f24fcba1fe409",
   "outputs": [],
   "execution_count": 1
  },
  {
   "metadata": {
    "ExecuteTime": {
     "end_time": "2025-07-25T07:31:37.026002Z",
     "start_time": "2025-07-25T07:31:37.021338Z"
    }
   },
   "cell_type": "code",
   "source": [
    "# 批量重构函数\n",
    "def batch_reconstruct(\n",
    "    data: np.ndarray, sos: float = 1.5, image_size: int = 30, half_time: int = 0\n",
    ") -> np.ndarray:\n",
    "    if data.ndim == 3:\n",
    "        fubp = FastUBP()\n",
    "        fubp.set_pa_frame_element_number(data.shape[1])\n",
    "        fubp.set_reconstruction_water_sos(sos)\n",
    "        fubp.set_reconstruction_tissue_sos(sos)\n",
    "        fubp.set_image_length(image_size)\n",
    "        fubp.set_image_width(image_size)\n",
    "        fubp.set_control_half_time_delta(half_time)\n",
    "        recon_list = []\n",
    "        for i in range(data.shape[0]):\n",
    "            recon_slice = fubp.reconstruction(data[i])\n",
    "            recon_list.append(recon_slice)\n",
    "        return np.array(recon_list)\n",
    "    else:\n",
    "        raise ValueError(\"Incorrect array dimension.\")"
   ],
   "id": "initial_id",
   "outputs": [],
   "execution_count": 2
  },
  {
   "metadata": {
    "ExecuteTime": {
     "end_time": "2025-07-25T07:31:40.125920Z",
     "start_time": "2025-07-25T07:31:37.043444Z"
    }
   },
   "cell_type": "code",
   "source": [
    "data = load_data(\"../data/mouse_data/D11980_1064 nm_30 %_20db_mouse_000.pah5\")\n",
    "data = data[50:150]\n",
    "data.shape"
   ],
   "id": "44fc2eeb59a43f00",
   "outputs": [
    {
     "data": {
      "text/plain": [
       "(100, 512, 2000)"
      ]
     },
     "execution_count": 3,
     "metadata": {},
     "output_type": "execute_result"
    }
   ],
   "execution_count": 3
  },
  {
   "metadata": {
    "ExecuteTime": {
     "end_time": "2025-07-25T07:31:40.173487Z",
     "start_time": "2025-07-25T07:31:40.166464Z"
    }
   },
   "cell_type": "code",
   "source": [
    "# 定义目标函数\n",
    "def objective_function(sos):\n",
    "    recon = batch_reconstruct(data, sos)\n",
    "    mip = np.max(-recon, axis=0)\n",
    "    gradient = calculate_tenenbaum_gradient(mip[np.newaxis,])\n",
    "\n",
    "    return -gradient"
   ],
   "id": "14f904725c8f0171",
   "outputs": [],
   "execution_count": 4
  },
  {
   "metadata": {
    "ExecuteTime": {
     "end_time": "2025-07-25T07:32:16.085558Z",
     "start_time": "2025-07-25T07:31:40.200829Z"
    }
   },
   "cell_type": "code",
   "source": [
    "import math\n",
    "\n",
    "def golden_section_search(f, a, b, tol=1e-5, max_iter=100):\n",
    "    gr = (math.sqrt(5) + 1) / 2  # 黄金比例 ≈ 1.618\n",
    "\n",
    "    c = b - (b - a) / gr\n",
    "    d = a + (b - a) / gr\n",
    "\n",
    "    fc = f(c)\n",
    "    fd = f(d)\n",
    "    num_calls = 2\n",
    "\n",
    "    for _ in range(max_iter):\n",
    "        if abs(b - a) < tol:\n",
    "            break\n",
    "\n",
    "        if fc < fd:\n",
    "            b, fd = d, fc\n",
    "            d = c\n",
    "            c = b - (b - a) / gr\n",
    "            fc = f(c)\n",
    "        else:\n",
    "            a, fc = c, fd\n",
    "            c = d\n",
    "            d = a + (b - a) / gr\n",
    "            fd = f(d)\n",
    "        num_calls += 1\n",
    "\n",
    "    x_min = (b + a) / 2\n",
    "    f_min = f(x_min)\n",
    "    num_calls += 1\n",
    "\n",
    "    return x_min, f_min, num_calls\n",
    "\n",
    "x_min, f_min, num_calls = golden_section_search(objective_function, 1.45, 1.55, tol=0.0005)\n",
    "print(x_min, f_min, num_calls)"
   ],
   "id": "c7a606bc285fe19",
   "outputs": [
    {
     "name": "stdout",
     "output_type": "stream",
     "text": [
      "1.5093275563764617 [-50539840.] 15\n"
     ]
    }
   ],
   "execution_count": 5
  }
 ],
 "metadata": {
  "kernelspec": {
   "display_name": "Python 3",
   "language": "python",
   "name": "python3"
  },
  "language_info": {
   "codemirror_mode": {
    "name": "ipython",
    "version": 2
   },
   "file_extension": ".py",
   "mimetype": "text/x-python",
   "name": "python",
   "nbconvert_exporter": "python",
   "pygments_lexer": "ipython2",
   "version": "2.7.6"
  }
 },
 "nbformat": 4,
 "nbformat_minor": 5
}
