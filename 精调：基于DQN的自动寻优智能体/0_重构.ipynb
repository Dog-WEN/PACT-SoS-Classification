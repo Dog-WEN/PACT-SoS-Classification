{
 "cells": [
  {
   "cell_type": "code",
   "id": "initial_id",
   "metadata": {
    "collapsed": true,
    "ExecuteTime": {
     "end_time": "2025-07-25T07:58:44.863783Z",
     "start_time": "2025-07-25T07:58:44.313531Z"
    }
   },
   "source": [
    "import numpy as np\n",
    "from scipy import ndimage\n",
    "\n",
    "from upapy.reconstruction.ubp2d import FastUBP\n",
    "from upapy.io import load_data\n",
    "from upapy.io.core import load_from_pah5, load_from_upa"
   ],
   "outputs": [],
   "execution_count": 1
  },
  {
   "metadata": {
    "ExecuteTime": {
     "end_time": "2025-07-25T07:58:48.169999Z",
     "start_time": "2025-07-25T07:58:45.082437Z"
    }
   },
   "cell_type": "code",
   "source": [
    "data = load_data(\"../data/mouse_data/D11980_1064 nm_30 %_20db_mouse_000.pah5\")\n",
    "print(data.shape)"
   ],
   "id": "dcdee58652a7d690",
   "outputs": [
    {
     "name": "stdout",
     "output_type": "stream",
     "text": [
      "(400, 512, 2000)\n"
     ]
    }
   ],
   "execution_count": 2
  },
  {
   "metadata": {
    "ExecuteTime": {
     "end_time": "2025-07-25T07:58:49.497126Z",
     "start_time": "2025-07-25T07:58:48.198891Z"
    }
   },
   "cell_type": "code",
   "source": [
    "# 提取单帧\n",
    "ubp = FastUBP()\n",
    "sos_list = np.arange(1450, 1550, 2) / 1000.0  # 声速范围\n",
    "img_list = []\n",
    "for sos in sos_list:\n",
    "    ubp.set_reconstruction_water_sos(sos)\n",
    "    img_list.append(ubp.reconstruction(data[170]))  # 帧\n",
    "img_array = np.array(img_list)\n",
    "img_array.shape"
   ],
   "id": "ce8f8ff6f8455046",
   "outputs": [
    {
     "data": {
      "text/plain": [
       "(50, 750, 750)"
      ]
     },
     "execution_count": 3,
     "metadata": {},
     "output_type": "execute_result"
    }
   ],
   "execution_count": 3
  },
  {
   "metadata": {
    "ExecuteTime": {
     "end_time": "2025-07-25T07:58:50.130800Z",
     "start_time": "2025-07-25T07:58:49.525575Z"
    }
   },
   "cell_type": "code",
   "source": [
    "def max_pooling(img, pool_size=3):\n",
    "    \"\"\"最大池化\"\"\"\n",
    "    maximum_filter = ndimage.maximum_filter(img, size=(1, pool_size, pool_size))\n",
    "    return maximum_filter[:, ::pool_size, ::pool_size]\n",
    "\n",
    "img_maxpool = max_pooling(img_array)\n",
    "img_maxpool.shape"
   ],
   "id": "9b90de7f09f27caf",
   "outputs": [
    {
     "data": {
      "text/plain": [
       "(50, 250, 250)"
      ]
     },
     "execution_count": 4,
     "metadata": {},
     "output_type": "execute_result"
    }
   ],
   "execution_count": 4
  },
  {
   "metadata": {
    "ExecuteTime": {
     "end_time": "2025-07-25T07:58:50.357568Z",
     "start_time": "2025-07-25T07:58:50.204514Z"
    }
   },
   "cell_type": "code",
   "source": [
    "# 保存为.npy文件\n",
    "np.save('data_RL/D11980_170.npy', img_maxpool)"
   ],
   "id": "d36175455bc1b1dd",
   "outputs": [],
   "execution_count": 5
  },
  {
   "metadata": {
    "ExecuteTime": {
     "end_time": "2025-07-25T07:58:50.396459Z",
     "start_time": "2025-07-25T07:58:50.393216Z"
    }
   },
   "cell_type": "code",
   "source": "",
   "id": "20a064038be5d3a1",
   "outputs": [],
   "execution_count": null
  }
 ],
 "metadata": {
  "kernelspec": {
   "display_name": "Python 3",
   "language": "python",
   "name": "python3"
  },
  "language_info": {
   "codemirror_mode": {
    "name": "ipython",
    "version": 2
   },
   "file_extension": ".py",
   "mimetype": "text/x-python",
   "name": "python",
   "nbconvert_exporter": "python",
   "pygments_lexer": "ipython2",
   "version": "2.7.6"
  }
 },
 "nbformat": 4,
 "nbformat_minor": 5
}
